{
  "nbformat": 4,
  "nbformat_minor": 0,
  "metadata": {
    "colab": {
      "provenance": [],
      "machine_shape": "hm",
      "gpuType": "L4",
      "authorship_tag": "ABX9TyOp8671EjxgkrY6p8muf88B"
    },
    "kernelspec": {
      "name": "python3",
      "display_name": "Python 3"
    },
    "language_info": {
      "name": "python"
    },
    "accelerator": "GPU"
  },
  "cells": [
    {
      "cell_type": "code",
      "source": [
        "from emotion_training import run_enhanced_training\n",
        "\n",
        "# This will automatically download the data and train the model\n",
        "result = run_enhanced_training()"
      ],
      "metadata": {
        "id": "dM-AGPUW2aQU"
      },
      "execution_count": null,
      "outputs": []
    },
    {
      "cell_type": "code",
      "source": [
        "from emotion_model_report_generator import generate_report\n",
        "\n",
        "#This will generate the report\n",
        "generate_report()"
      ],
      "metadata": {
        "id": "pinuMoxM8iEy"
      },
      "execution_count": null,
      "outputs": []
    }
  ]
}